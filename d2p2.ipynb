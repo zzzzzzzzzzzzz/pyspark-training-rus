{
 "cells": [
  {
   "cell_type": "markdown",
   "metadata": {},
   "source": [
    "# Spark SQL API \n",
    "## Financial data"
   ]
  },
  {
   "cell_type": "code",
   "execution_count": 35,
   "metadata": {},
   "outputs": [],
   "source": [
    "from pyspark import SparkConf\n",
    "from pyspark import SparkContext"
   ]
  },
  {
   "cell_type": "code",
   "execution_count": 36,
   "metadata": {},
   "outputs": [],
   "source": [
    "import os\n",
    "PATH_TO_FILES = '/home/dmitry/pyspark-training/files'\n",
    "MASTER_URL = 'spark://185739.simplecloud.ru:7077'"
   ]
  },
  {
   "cell_type": "code",
   "execution_count": 37,
   "metadata": {},
   "outputs": [],
   "source": [
    "conf = SparkConf()\n",
    "conf = conf.set('spark.driver.memory', '512m')\n",
    "conf = conf.set('spark.executor.memory', '512m')\n",
    "conf = conf.set('spark.executor.cores', '2')"
   ]
  },
  {
   "cell_type": "code",
   "execution_count": 38,
   "metadata": {},
   "outputs": [],
   "source": [
    "sc = SparkContext(MASTER_URL, appName=\"SQL API. Financial\", conf=conf)"
   ]
  },
  {
   "cell_type": "code",
   "execution_count": 39,
   "metadata": {},
   "outputs": [],
   "source": [
    "from pyspark.sql import SparkSession"
   ]
  },
  {
   "cell_type": "code",
   "execution_count": 40,
   "metadata": {},
   "outputs": [],
   "source": [
    "sql = SparkSession(sc)"
   ]
  },
  {
   "cell_type": "code",
   "execution_count": 41,
   "metadata": {},
   "outputs": [
    {
     "data": {
      "text/html": [
       "\n",
       "            <div>\n",
       "                <p><b>SparkSession - in-memory</b></p>\n",
       "                \n",
       "        <div>\n",
       "            <p><b>SparkContext</b></p>\n",
       "\n",
       "            <p><a href=\"http://185739.simplecloud.ru:4040\">Spark UI</a></p>\n",
       "\n",
       "            <dl>\n",
       "              <dt>Version</dt>\n",
       "                <dd><code>v2.4.5</code></dd>\n",
       "              <dt>Master</dt>\n",
       "                <dd><code>spark://185739.simplecloud.ru:7077</code></dd>\n",
       "              <dt>AppName</dt>\n",
       "                <dd><code>SQL API. Financial</code></dd>\n",
       "            </dl>\n",
       "        </div>\n",
       "        \n",
       "            </div>\n",
       "        "
      ],
      "text/plain": [
       "<pyspark.sql.session.SparkSession at 0x7f8e50be5b00>"
      ]
     },
     "execution_count": 41,
     "metadata": {},
     "output_type": "execute_result"
    }
   ],
   "source": [
    "sql"
   ]
  },
  {
   "cell_type": "code",
   "execution_count": 42,
   "metadata": {},
   "outputs": [
    {
     "name": "stdout",
     "output_type": "stream",
     "text": [
      "account.csv  client.csv    disp.csv\t loan.csv   trans.csv\r\n",
      "card.csv     data map.gif  district.csv  order.csv\r\n"
     ]
    }
   ],
   "source": [
    "!ls /home/dmitry/pyspark-training/files/financial/original"
   ]
  },
  {
   "cell_type": "code",
   "execution_count": 43,
   "metadata": {},
   "outputs": [],
   "source": [
    "for tbl in ['account', 'client', 'disp', 'loan', 'trans', 'card', 'district',  'order']:\n",
    "    fname = tbl\n",
    "    data = sql.read.csv(os.path.join(PATH_TO_FILES, 'financial', 'original', '{}.csv'.format(fname)), header=True, sep=';')\n",
    "    data.registerTempTable(fname)"
   ]
  },
  {
   "cell_type": "code",
   "execution_count": 44,
   "metadata": {},
   "outputs": [
    {
     "name": "stdout",
     "output_type": "stream",
     "text": [
      "+----------+-----------+------------------+------+\n",
      "|account_id|district_id|         frequency|  date|\n",
      "+----------+-----------+------------------+------+\n",
      "|       576|         55|  POPLATEK MESICNE|930101|\n",
      "|      3818|         74|  POPLATEK MESICNE|930101|\n",
      "|       704|         55|  POPLATEK MESICNE|930101|\n",
      "|      2378|         16|  POPLATEK MESICNE|930101|\n",
      "|      2632|         24|  POPLATEK MESICNE|930102|\n",
      "|      1972|         77|  POPLATEK MESICNE|930102|\n",
      "|      1539|          1|POPLATEK PO OBRATU|930103|\n",
      "|       793|         47|  POPLATEK MESICNE|930103|\n",
      "|      2484|         74|  POPLATEK MESICNE|930103|\n",
      "|      1695|         76|  POPLATEK MESICNE|930103|\n",
      "|      1726|         48|  POPLATEK MESICNE|930103|\n",
      "|      2881|         70|  POPLATEK MESICNE|930104|\n",
      "|      2357|         19|  POPLATEK MESICNE|930104|\n",
      "|      2177|         62|  POPLATEK MESICNE|930104|\n",
      "|       485|          6|POPLATEK PO OBRATU|930104|\n",
      "|       652|         21|  POPLATEK MESICNE|930105|\n",
      "|      9635|         70|  POPLATEK MESICNE|930105|\n",
      "|      1844|         44|  POPLATEK MESICNE|930106|\n",
      "|      1926|         37|  POPLATEK MESICNE|930106|\n",
      "|      2393|         10|  POPLATEK MESICNE|930107|\n",
      "+----------+-----------+------------------+------+\n",
      "only showing top 20 rows\n",
      "\n"
     ]
    }
   ],
   "source": [
    "sql.sql('select * from account').show()"
   ]
  },
  {
   "cell_type": "code",
   "execution_count": 45,
   "metadata": {},
   "outputs": [
    {
     "name": "stdout",
     "output_type": "stream",
     "text": [
      "+---------+------------+-----------+\n",
      "|client_id|birth_number|district_id|\n",
      "+---------+------------+-----------+\n",
      "|        1|      706213|         18|\n",
      "|        2|      450204|          1|\n",
      "|        3|      406009|          1|\n",
      "|        4|      561201|          5|\n",
      "|        5|      605703|          5|\n",
      "|        6|      190922|         12|\n",
      "|        7|      290125|         15|\n",
      "|        8|      385221|         51|\n",
      "|        9|      351016|         60|\n",
      "|       10|      430501|         57|\n",
      "|       11|      505822|         57|\n",
      "|       12|      810220|         40|\n",
      "|       13|      745529|         54|\n",
      "|       14|      425622|         76|\n",
      "|       15|      185828|         21|\n",
      "|       16|      190225|         21|\n",
      "|       17|      341013|         76|\n",
      "|       18|      315405|         76|\n",
      "|       19|      421228|         47|\n",
      "|       20|      790104|         46|\n",
      "+---------+------------+-----------+\n",
      "only showing top 20 rows\n",
      "\n"
     ]
    }
   ],
   "source": [
    "sql.sql('select * from client').show()"
   ]
  },
  {
   "cell_type": "code",
   "execution_count": 46,
   "metadata": {},
   "outputs": [
    {
     "name": "stdout",
     "output_type": "stream",
     "text": [
      "+-------+---------+----------+---------+\n",
      "|disp_id|client_id|account_id|     type|\n",
      "+-------+---------+----------+---------+\n",
      "|      1|        1|         1|    OWNER|\n",
      "|      2|        2|         2|    OWNER|\n",
      "|      3|        3|         2|DISPONENT|\n",
      "|      4|        4|         3|    OWNER|\n",
      "|      5|        5|         3|DISPONENT|\n",
      "|      6|        6|         4|    OWNER|\n",
      "|      7|        7|         5|    OWNER|\n",
      "|      8|        8|         6|    OWNER|\n",
      "|      9|        9|         7|    OWNER|\n",
      "|     10|       10|         8|    OWNER|\n",
      "|     11|       11|         8|DISPONENT|\n",
      "|     12|       12|         9|    OWNER|\n",
      "|     13|       13|        10|    OWNER|\n",
      "|     14|       14|        11|    OWNER|\n",
      "|     15|       15|        12|    OWNER|\n",
      "|     16|       16|        12|DISPONENT|\n",
      "|     17|       17|        13|    OWNER|\n",
      "|     18|       18|        13|DISPONENT|\n",
      "|     19|       19|        14|    OWNER|\n",
      "|     20|       20|        15|    OWNER|\n",
      "+-------+---------+----------+---------+\n",
      "only showing top 20 rows\n",
      "\n"
     ]
    }
   ],
   "source": [
    "sql.sql('select * from disp').show()"
   ]
  },
  {
   "cell_type": "code",
   "execution_count": 47,
   "metadata": {},
   "outputs": [
    {
     "name": "stdout",
     "output_type": "stream",
     "text": [
      "+-------+----------+------+------+--------+--------+------+\n",
      "|loan_id|account_id|  date|amount|duration|payments|status|\n",
      "+-------+----------+------+------+--------+--------+------+\n",
      "|   5314|      1787|930705| 96396|      12| 8033.00|     B|\n",
      "|   5316|      1801|930711|165960|      36| 4610.00|     A|\n",
      "|   6863|      9188|930728|127080|      60| 2118.00|     A|\n",
      "|   5325|      1843|930803|105804|      36| 2939.00|     A|\n",
      "|   7240|     11013|930906|274740|      60| 4579.00|     A|\n",
      "|   6687|      8261|930913| 87840|      24| 3660.00|     A|\n",
      "|   7284|     11265|930915| 52788|      12| 4399.00|     A|\n",
      "|   6111|      5428|930924|174744|      24| 7281.00|     B|\n",
      "|   7235|     10973|931013|154416|      48| 3217.00|     A|\n",
      "|   5997|      4894|931104|117024|      24| 4876.00|     A|\n",
      "|   7121|     10364|931110| 21924|      36|  609.00|     A|\n",
      "|   6077|      5270|931122| 79608|      24| 3317.00|     A|\n",
      "|   6228|      6034|931201|464520|      60| 7742.00|     B|\n",
      "|   6356|      6701|931208| 95400|      36| 2650.00|     A|\n",
      "|   5523|      2705|931208| 93888|      36| 2608.00|     A|\n",
      "|   6456|      7123|931209| 47016|      12| 3918.00|     A|\n",
      "|   7104|     10320|931213|259740|      60| 4329.00|     A|\n",
      "|   6820|      9034|931216| 38148|      12| 3179.00|     A|\n",
      "|   6876|      9236|931221| 86616|      12| 7218.00|     A|\n",
      "|   7097|     10266|931223| 75624|      24| 3151.00|     B|\n",
      "+-------+----------+------+------+--------+--------+------+\n",
      "only showing top 20 rows\n",
      "\n"
     ]
    }
   ],
   "source": [
    "sql.sql('select * from loan').show()"
   ]
  },
  {
   "cell_type": "code",
   "execution_count": 48,
   "metadata": {},
   "outputs": [
    {
     "name": "stdout",
     "output_type": "stream",
     "text": [
      "+--------+----------+------+------+-------------+-------+-------+--------+----+--------+\n",
      "|trans_id|account_id|  date|  type|    operation| amount|balance|k_symbol|bank| account|\n",
      "+--------+----------+------+------+-------------+-------+-------+--------+----+--------+\n",
      "|  695247|      2378|930101|PRIJEM|        VKLAD| 700.00| 700.00|    null|null|    null|\n",
      "|  171812|       576|930101|PRIJEM|        VKLAD| 900.00| 900.00|    null|null|    null|\n",
      "|  207264|       704|930101|PRIJEM|        VKLAD|1000.00|1000.00|    null|null|    null|\n",
      "| 1117247|      3818|930101|PRIJEM|        VKLAD| 600.00| 600.00|    null|null|    null|\n",
      "|  579373|      1972|930102|PRIJEM|        VKLAD| 400.00| 400.00|    null|null|    null|\n",
      "|  771035|      2632|930102|PRIJEM|        VKLAD|1100.00|1100.00|    null|null|    null|\n",
      "|  452728|      1539|930103|PRIJEM|        VKLAD| 600.00| 600.00|    null|null|    null|\n",
      "|  725751|      2484|930103|PRIJEM|        VKLAD|1100.00|1100.00|    null|null|    null|\n",
      "|  497211|      1695|930103|PRIJEM|        VKLAD| 200.00| 200.00|    null|null|    null|\n",
      "|  232960|       793|930103|PRIJEM|        VKLAD| 800.00| 800.00|    null|null|    null|\n",
      "|  505240|      1726|930103|PRIJEM|        VKLAD|1000.00|1000.00|    null|null|    null|\n",
      "|  144541|       485|930104|PRIJEM|        VKLAD| 300.00| 300.00|    null|null|    null|\n",
      "|  637741|      2177|930104|PRIJEM|        VKLAD| 800.00| 800.00|    null|null|    null|\n",
      "|  689827|      2357|930104|PRIJEM|        VKLAD| 800.00| 800.00|    null|null|    null|\n",
      "|  846006|      2881|930104|PRIJEM|        VKLAD| 700.00| 700.00|    null|null|    null|\n",
      "|  637742|      2177|930105|PRIJEM|PREVOD Z UCTU|5123.00|5923.00|  DUCHOD|  YZ|62457513|\n",
      "| 2908688|      9635|930105|PRIJEM|        VKLAD| 400.00| 400.00|    null|null|    null|\n",
      "|  232961|       793|930105|PRIJEM|PREVOD Z UCTU|3401.00|4201.00|    null|  IJ| 6149286|\n",
      "|  192096|       652|930105|PRIJEM|        VKLAD| 700.00| 700.00|    null|null|    null|\n",
      "|  542215|      1844|930106|PRIJEM|        VKLAD| 500.00| 500.00|    null|null|    null|\n",
      "+--------+----------+------+------+-------------+-------+-------+--------+----+--------+\n",
      "only showing top 20 rows\n",
      "\n"
     ]
    }
   ],
   "source": [
    "sql.sql('select * from trans').show()"
   ]
  },
  {
   "cell_type": "code",
   "execution_count": 49,
   "metadata": {},
   "outputs": [
    {
     "name": "stdout",
     "output_type": "stream",
     "text": [
      "+-------+-------+-------+---------------+\n",
      "|card_id|disp_id|   type|         issued|\n",
      "+-------+-------+-------+---------------+\n",
      "|   1005|   9285|classic|931107 00:00:00|\n",
      "|    104|    588|classic|940119 00:00:00|\n",
      "|    747|   4915|classic|940205 00:00:00|\n",
      "|     70|    439|classic|940208 00:00:00|\n",
      "|    577|   3687|classic|940215 00:00:00|\n",
      "|    377|   2429|classic|940303 00:00:00|\n",
      "|    721|   4680| junior|940405 00:00:00|\n",
      "|    437|   2762|classic|940601 00:00:00|\n",
      "|    188|   1146|classic|940619 00:00:00|\n",
      "|     13|     87|classic|940629 00:00:00|\n",
      "|    732|   4763|classic|940721 00:00:00|\n",
      "|    181|   1066|classic|940819 00:00:00|\n",
      "|    384|   2475| junior|940915 00:00:00|\n",
      "|    309|   1946|classic|940919 00:00:00|\n",
      "|    478|   3084|classic|941009 00:00:00|\n",
      "|    563|   3589|classic|941021 00:00:00|\n",
      "|    369|   2363|classic|941108 00:00:00|\n",
      "|    376|   2428|classic|941110 00:00:00|\n",
      "|    483|   3115|classic|941124 00:00:00|\n",
      "|    174|   1039| junior|941204 00:00:00|\n",
      "+-------+-------+-------+---------------+\n",
      "only showing top 20 rows\n",
      "\n"
     ]
    }
   ],
   "source": [
    "sql.sql('select * from card').show()"
   ]
  },
  {
   "cell_type": "code",
   "execution_count": 50,
   "metadata": {},
   "outputs": [
    {
     "name": "stdout",
     "output_type": "stream",
     "text": [
      "+---+-----------------+---------------+-------+---+---+---+---+---+-----+-----+----+----+---+-----+-----+\n",
      "| A1|               A2|             A3|     A4| A5| A6| A7| A8| A9|  A10|  A11| A12| A13|A14|  A15|  A16|\n",
      "+---+-----------------+---------------+-------+---+---+---+---+---+-----+-----+----+----+---+-----+-----+\n",
      "|  1|      Hl.m. Praha|         Prague|1204953|  0|  0|  0|  1|  1|100.0|12541|0.29|0.43|167|85677|99107|\n",
      "|  2|          Benesov|central Bohemia|  88884| 80| 26|  6|  2|  5| 46.7| 8507|1.67|1.85|132| 2159| 2674|\n",
      "|  3|           Beroun|central Bohemia|  75232| 55| 26|  4|  1|  5| 41.7| 8980|1.95|2.21|111| 2824| 2813|\n",
      "|  4|           Kladno|central Bohemia| 149893| 63| 29|  6|  2|  6| 67.4| 9753|4.64|5.05|109| 5244| 5892|\n",
      "|  5|            Kolin|central Bohemia|  95616| 65| 30|  4|  1|  6| 51.4| 9307|3.85|4.43|118| 2616| 3040|\n",
      "|  6|       Kutna Hora|central Bohemia|  77963| 60| 23|  4|  2|  4| 51.5| 8546|2.95|4.02|126| 2640| 3120|\n",
      "|  7|           Melnik|central Bohemia|  94725| 38| 28|  1|  3|  6| 63.4| 9920|2.26|2.87|130| 4289| 4846|\n",
      "|  8|   Mlada Boleslav|central Bohemia| 112065| 95| 19|  7|  1|  8| 69.4|11277|1.25|1.44|127| 5179| 4987|\n",
      "|  9|          Nymburk|central Bohemia|  81344| 61| 23|  4|  2|  6| 55.3| 8899|3.39|3.97|149| 2987| 2487|\n",
      "| 10|   Praha - vychod|central Bohemia|  92084| 55| 29|  4|  3|  5| 46.7|10124|0.56|0.54|141| 3810| 4316|\n",
      "| 11|    Praha - zapad|central Bohemia|  75637| 35| 36|  9|  0|  7| 36.5| 9622|0.45|0.59|154| 3475| 3529|\n",
      "| 12|          Pribram|central Bohemia| 107870| 84| 29|  6|  1|  6| 58.0| 8754|3.83|4.31|137| 3804| 3868|\n",
      "| 13|         Rakovnik|central Bohemia|  53921| 61| 22|  1|  1|  2| 41.3| 8598|2.77|3.26|123| 1597| 1875|\n",
      "| 14| Ceske Budejovice|  south Bohemia| 177686| 69| 27| 10|  1|  9| 74.8|10045|1.42|1.71|135| 6604| 6295|\n",
      "| 15|    Cesky Krumlov|  south Bohemia|  58796| 22| 16|  7|  1|  5| 51.9| 9045|3.13|3.60|124| 1845| 1879|\n",
      "| 16|Jindrichuv Hradec|  south Bohemia|  93931| 74| 21| 10|  1|  8| 56.9| 8427|1.12|1.54|107| 1874| 1913|\n",
      "| 17|        Pelhrimov|  south Bohemia|  74062| 99| 15|  4|  2|  7| 61.4| 8114|2.38|2.62|119| 1003| 1181|\n",
      "| 18|            Pisek|  south Bohemia|  70699| 60| 13|  2|  1|  4| 65.3| 8968|2.83|3.35|131| 1740| 1910|\n",
      "| 19|       Prachatice|  south Bohemia|  51428| 50| 11|  3|  1|  4| 52.7| 8402|3.13|3.98|120|  999| 1099|\n",
      "| 20|       Strakonice|  south Bohemia|  70646| 94| 14|  3|  1|  4| 58.4| 8547|2.65|3.64|120| 1563| 1542|\n",
      "+---+-----------------+---------------+-------+---+---+---+---+---+-----+-----+----+----+---+-----+-----+\n",
      "only showing top 20 rows\n",
      "\n"
     ]
    }
   ],
   "source": [
    "sql.sql('select * from district').show()"
   ]
  },
  {
   "cell_type": "code",
   "execution_count": 51,
   "metadata": {},
   "outputs": [
    {
     "name": "stdout",
     "output_type": "stream",
     "text": [
      "+--------+----------+-------+----------+-------+--------+\n",
      "|order_id|account_id|bank_to|account_to| amount|k_symbol|\n",
      "+--------+----------+-------+----------+-------+--------+\n",
      "|   29401|         1|     YZ|  87144583|2452.00|    SIPO|\n",
      "|   29402|         2|     ST|  89597016|3372.70|    UVER|\n",
      "|   29403|         2|     QR|  13943797|7266.00|    SIPO|\n",
      "|   29404|         3|     WX|  83084338|1135.00|    SIPO|\n",
      "|   29405|         3|     CD|  24485939| 327.00|        |\n",
      "|   29406|         3|     AB|  59972357|3539.00|POJISTNE|\n",
      "|   29407|         4|     UV|  26693541|2078.00|    SIPO|\n",
      "|   29408|         4|     UV|   5848086|1285.00|    SIPO|\n",
      "|   29409|         5|     GH|  37390208|2668.00|    SIPO|\n",
      "|   29410|         6|     AB|  44486999|3954.00|    SIPO|\n",
      "|   29411|         7|     IJ|  34452903|4880.00|    SIPO|\n",
      "|   29412|         8|     UV|  12510681|2612.00|    SIPO|\n",
      "|   29413|         8|     IJ|  93210345|6712.00|        |\n",
      "|   29414|        10|     UV|  18686104|7033.00|    SIPO|\n",
      "|   29415|        10|     QR|  93182509|1344.00| LEASING|\n",
      "|   29416|        11|     ST|  38470870|2132.00|    SIPO|\n",
      "|   29417|        12|     CD|  23010808| 297.00|    SIPO|\n",
      "|   29418|        12|     KL|  63607060|3295.00|    SIPO|\n",
      "|   29419|        13|     EF|  35443323|2444.00|    SIPO|\n",
      "|   29420|        14|     WX|  11793136|3629.00|    SIPO|\n",
      "+--------+----------+-------+----------+-------+--------+\n",
      "only showing top 20 rows\n",
      "\n"
     ]
    }
   ],
   "source": [
    "sql.sql('select * from order').show()"
   ]
  },
  {
   "cell_type": "markdown",
   "metadata": {},
   "source": [
    "* array_distinct удаляет дубликаты из массива, т.е [1,2,3,4,4,5,null] -> [1,2,3,4,5,null]\n",
    "* array_intersect пересечение среди двух списков, т.е [1,2,3];[1,3,5] -> [1,3]\n",
    "* array_union объединение двух списков без повторения\n",
    "* array_sort сортировка\n",
    "* concat конкатенация\n",
    "* flatten несколько вложенных списков в один\n",
    "* https://docs.databricks.com/_static/notebooks/apache-spark-2.4-functions.html"
   ]
  },
  {
   "cell_type": "code",
   "execution_count": 55,
   "metadata": {},
   "outputs": [
    {
     "name": "stdout",
     "output_type": "stream",
     "text": [
      "+-------+------------------+------------------+------------------+-------+--------------+------------------+------------------+--------+------+--------------------+\n",
      "|summary|          trans_id|        account_id|              date|   type|     operation|            amount|           balance|k_symbol|  bank|             account|\n",
      "+-------+------------------+------------------+------------------+-------+--------------+------------------+------------------+--------+------+--------------------+\n",
      "|  count|           1056320|           1056320|           1056320|1056320|        873206|           1056320|           1056320|  574439|273508|              295389|\n",
      "|   mean|1335310.7043301272|2936.8672902150865| 965674.8198926462|   null|          null|5924.1456758289905| 38518.33080316705|    null|  null|4.5670919374915786E7|\n",
      "| stddev|1227486.5083824093| 2477.345127182351|13945.346734685074|   null|          null| 9522.735373120275|22117.868012591705|    null|  null|3.0663396851202257E7|\n",
      "|    min|                 1|                 1|            930101| PRIJEM|PREVOD NA UCET|              0.00|             -1.60|        |    AB|                   0|\n",
      "|    max|            999980|               998|            981231|  VYDAJ|  VYBER KARTOU|           9999.00|          99999.60|    UVER|    YZ|            99994199|\n",
      "+-------+------------------+------------------+------------------+-------+--------------+------------------+------------------+--------+------+--------------------+\n",
      "\n"
     ]
    }
   ],
   "source": [
    "sql.sql(\"\"\"\n",
    "    select \n",
    "        * \n",
    "    from \n",
    "        trans\"\"\").describe().show()"
   ]
  },
  {
   "cell_type": "code",
   "execution_count": 62,
   "metadata": {},
   "outputs": [
    {
     "name": "stdout",
     "output_type": "stream",
     "text": [
      "+---------+---------------------+\n",
      "|client_id|collect_list(card_id)|\n",
      "+---------+---------------------+\n",
      "|    10040|               [1035]|\n",
      "|    10043|               [1036]|\n",
      "|    10095|               [1038]|\n",
      "|     1011|                [167]|\n",
      "|    10145|               [1039]|\n",
      "|     1018|                [168]|\n",
      "|     1019|                [169]|\n",
      "|    10198|               [1040]|\n",
      "|     1020|                [170]|\n",
      "|     1027|                [171]|\n",
      "|    10282|               [1043]|\n",
      "|     1030|                [172]|\n",
      "|     1031|                [173]|\n",
      "|     1039|                [174]|\n",
      "|     1040|                [175]|\n",
      "|    10479|               [1055]|\n",
      "|     1049|                [176]|\n",
      "|    10528|               [1056]|\n",
      "|    10543|               [1059]|\n",
      "|     1056|                [177]|\n",
      "+---------+---------------------+\n",
      "only showing top 20 rows\n",
      "\n"
     ]
    }
   ],
   "source": [
    "sql.sql(\n",
    "\"\"\"\n",
    "    SELECT\n",
    "        client_id, collect_list(card_id)\n",
    "    FROM\n",
    "        (SELECT\n",
    "            disp_id, client_id\n",
    "        FROM\n",
    "            disp) as t1\n",
    "        INNER JOIN\n",
    "        (SELECT\n",
    "            disp_id, card_id\n",
    "        FROM\n",
    "            card) as t2\n",
    "        ON t1.disp_id = t2.disp_id\n",
    "    GROUP BY client_id\n",
    "    ORDER BY client_id\n",
    "\"\"\").show()"
   ]
  },
  {
   "cell_type": "code",
   "execution_count": 70,
   "metadata": {},
   "outputs": [],
   "source": [
    "collected = sql.sql(\"\"\"\n",
    "    SELECT \n",
    "        account_id,\n",
    "        collect_list(amount) as ts\n",
    "    FROM \n",
    "        trans\n",
    "    GROUP BY account_id\n",
    "\"\"\")"
   ]
  },
  {
   "cell_type": "code",
   "execution_count": 71,
   "metadata": {},
   "outputs": [],
   "source": [
    "collected.registerTempTable('transaction_list')"
   ]
  },
  {
   "cell_type": "code",
   "execution_count": 72,
   "metadata": {},
   "outputs": [
    {
     "name": "stdout",
     "output_type": "stream",
     "text": [
      "+----------+--------------------+\n",
      "|account_id|                  ts|\n",
      "+----------+--------------------+\n",
      "|     10351|[800.00, 4410.00,...|\n",
      "|     10436|[3700.00, 800.00,...|\n",
      "|      1090|[1000.00, 6318.00...|\n",
      "|      1159|[6470.00, 400.00,...|\n",
      "|      1436|[500.00, 3100.00,...|\n",
      "|      1512|[9200.00, 900.00,...|\n",
      "|      2088|[4200.00, 400.00,...|\n",
      "|      2294|[900.00, 13831.00...|\n",
      "|      2904|[15946.00, 800.00...|\n",
      "|       296|[2646.00, 300.00,...|\n",
      "|      3210|[24439.00, 1000.0...|\n",
      "|      3606|[900.00, 6100.00,...|\n",
      "|      3959|[300.00, 16806.00...|\n",
      "|       467|[500.00, 14.60, 1...|\n",
      "|      4937|[5996.20, 700.00,...|\n",
      "|       675|[900.00, 9538.00,...|\n",
      "|       691|[1100.00, 5013.00...|\n",
      "|       829|[800.00, 3181.00,...|\n",
      "|      9030|[2587.00, 200.00,...|\n",
      "|      9583|[300.00, 200.20, ...|\n",
      "+----------+--------------------+\n",
      "only showing top 20 rows\n",
      "\n"
     ]
    }
   ],
   "source": [
    "sql.sql(\"select * from transaction_list\").show()"
   ]
  },
  {
   "cell_type": "code",
   "execution_count": 77,
   "metadata": {},
   "outputs": [
    {
     "name": "stdout",
     "output_type": "stream",
     "text": [
      "+----------+--------------------+\n",
      "|account_id|           ts_unique|\n",
      "+----------+--------------------+\n",
      "|     10351|[800.00, 4410.00,...|\n",
      "|     10436|[3700.00, 800.00,...|\n",
      "|      1090|[1000.00, 6318.00...|\n",
      "|      1159|[6470.00, 400.00,...|\n",
      "|      1436|[500.00, 3100.00,...|\n",
      "|      1512|[9200.00, 900.00,...|\n",
      "|      2088|[4200.00, 400.00,...|\n",
      "|      2294|[900.00, 13831.00...|\n",
      "|      2904|[15946.00, 800.00...|\n",
      "|       296|[2646.00, 300.00,...|\n",
      "|      3210|[24439.00, 1000.0...|\n",
      "|      3606|[900.00, 6100.00,...|\n",
      "|      3959|[300.00, 16806.00...|\n",
      "|       467|[500.00, 14.60, 1...|\n",
      "|      4937|[5996.20, 700.00,...|\n",
      "|       675|[900.00, 9538.00,...|\n",
      "|       691|[1100.00, 5013.00...|\n",
      "|       829|[800.00, 3181.00,...|\n",
      "|      9030|[2587.00, 200.00,...|\n",
      "|      9583|[300.00, 200.20, ...|\n",
      "+----------+--------------------+\n",
      "only showing top 20 rows\n",
      "\n"
     ]
    }
   ],
   "source": [
    "# вариант 1\n",
    "sql.sql(\"\"\"\n",
    "\n",
    "    SELECT\n",
    "        account_id, collect_list(t) as ts_unique\n",
    "    FROM\n",
    "        (SELECT\n",
    "            account_id, t, COUNT(t)\n",
    "        FROM\n",
    "            (SELECT \n",
    "                account_id, explode(ts) as t\n",
    "            FROM\n",
    "                transaction_list) as t1\n",
    "        GROUP BY account_id, t) as inn\n",
    "    GROUP BY account_id\n",
    "        \n",
    "\"\"\").show()"
   ]
  },
  {
   "cell_type": "code",
   "execution_count": 81,
   "metadata": {},
   "outputs": [
    {
     "name": "stdout",
     "output_type": "stream",
     "text": [
      "+----------+--------------------+\n",
      "|account_id|                  ts|\n",
      "+----------+--------------------+\n",
      "|     10351|[800.00, 4410.00,...|\n",
      "|     10436|[3700.00, 800.00,...|\n",
      "|      1090|[1000.00, 6318.00...|\n",
      "|      1159|[6470.00, 400.00,...|\n",
      "|      1436|[500.00, 3100.00,...|\n",
      "|      1512|[9200.00, 900.00,...|\n",
      "|      2088|[4200.00, 400.00,...|\n",
      "|      2294|[900.00, 13831.00...|\n",
      "|      2904|[15946.00, 800.00...|\n",
      "|       296|[2646.00, 300.00,...|\n",
      "|      3210|[24439.00, 1000.0...|\n",
      "|      3606|[900.00, 6100.00,...|\n",
      "|      3959|[300.00, 16806.00...|\n",
      "|       467|[500.00, 14.60, 1...|\n",
      "|      4937|[5996.20, 700.00,...|\n",
      "|       675|[900.00, 9538.00,...|\n",
      "|       691|[1100.00, 5013.00...|\n",
      "|       829|[800.00, 3181.00,...|\n",
      "|      9030|[2587.00, 200.00,...|\n",
      "|      9583|[300.00, 200.20, ...|\n",
      "+----------+--------------------+\n",
      "only showing top 20 rows\n",
      "\n"
     ]
    }
   ],
   "source": [
    "sql.sql(\"select * from transaction_list\").show()"
   ]
  },
  {
   "cell_type": "code",
   "execution_count": 83,
   "metadata": {},
   "outputs": [
    {
     "name": "stdout",
     "output_type": "stream",
     "text": [
      "+----------+--------------------+\n",
      "|account_id|           ts_unique|\n",
      "+----------+--------------------+\n",
      "|     10351|[800.00, 4410.00,...|\n",
      "|     10436|[3700.00, 800.00,...|\n",
      "|      1090|[1000.00, 6318.00...|\n",
      "|      1159|[6470.00, 400.00,...|\n",
      "|      1436|[500.00, 3100.00,...|\n",
      "|      1512|[9200.00, 900.00,...|\n",
      "|      2088|[4200.00, 400.00,...|\n",
      "|      2294|[900.00, 13831.00...|\n",
      "|      2904|[15946.00, 800.00...|\n",
      "|       296|[2646.00, 300.00,...|\n",
      "|      3210|[24439.00, 1000.0...|\n",
      "|      3606|[900.00, 6100.00,...|\n",
      "|      3959|[300.00, 16806.00...|\n",
      "|       467|[500.00, 14.60, 1...|\n",
      "|      4937|[5996.20, 700.00,...|\n",
      "|       675|[900.00, 9538.00,...|\n",
      "|       691|[1100.00, 5013.00...|\n",
      "|       829|[800.00, 3181.00,...|\n",
      "|      9030|[2587.00, 200.00,...|\n",
      "|      9583|[300.00, 200.20, ...|\n",
      "+----------+--------------------+\n",
      "only showing top 20 rows\n",
      "\n"
     ]
    }
   ],
   "source": [
    "sql.sql(\"\"\"\n",
    "    SELECT\n",
    "        account_id, array_distinct(ts) as ts_unique\n",
    "    FROM    \n",
    "        transaction_list\n",
    "\"\"\").show()"
   ]
  },
  {
   "cell_type": "code",
   "execution_count": 84,
   "metadata": {},
   "outputs": [
    {
     "data": {
      "text/plain": [
       "79.5"
      ]
     },
     "execution_count": 84,
     "metadata": {},
     "output_type": "execute_result"
    }
   ],
   "source": [
    "((512-300)*0.75) / 2"
   ]
  },
  {
   "cell_type": "code",
   "execution_count": 85,
   "metadata": {},
   "outputs": [
    {
     "data": {
      "text/plain": [
       "200"
      ]
     },
     "execution_count": 85,
     "metadata": {},
     "output_type": "execute_result"
    }
   ],
   "source": [
    "collected.rdd.getNumPartitions()"
   ]
  },
  {
   "cell_type": "code",
   "execution_count": 180,
   "metadata": {},
   "outputs": [],
   "source": [
    "data = sql.read.csv(os.path.join(PATH_TO_FILES, 'financial', 'original', 'trans.csv'.format(fname)), header=True, sep=';')"
   ]
  },
  {
   "cell_type": "code",
   "execution_count": 92,
   "metadata": {},
   "outputs": [],
   "source": [
    "from pyspark.sql import functions as F"
   ]
  },
  {
   "cell_type": "code",
   "execution_count": 94,
   "metadata": {},
   "outputs": [
    {
     "name": "stdout",
     "output_type": "stream",
     "text": [
      "+--------------------------+\n",
      "|count(DISTINCT account_id)|\n",
      "+--------------------------+\n",
      "|                      4500|\n",
      "+--------------------------+\n",
      "\n"
     ]
    }
   ],
   "source": [
    "data.select('account_id').agg(F.countDistinct('account_id')).show()"
   ]
  },
  {
   "cell_type": "code",
   "execution_count": 95,
   "metadata": {},
   "outputs": [
    {
     "name": "stdout",
     "output_type": "stream",
     "text": [
      "+-------+------------------+\n",
      "|summary|        account_id|\n",
      "+-------+------------------+\n",
      "|  count|           1056320|\n",
      "|   mean|2936.8672902150865|\n",
      "| stddev| 2477.345127182351|\n",
      "|    min|                 1|\n",
      "|    max|               998|\n",
      "+-------+------------------+\n",
      "\n"
     ]
    }
   ],
   "source": [
    "data.select('account_id').describe().show()"
   ]
  },
  {
   "cell_type": "code",
   "execution_count": 97,
   "metadata": {},
   "outputs": [],
   "source": [
    "pd_data = data.groupby('account_id').count().toPandas()"
   ]
  },
  {
   "cell_type": "code",
   "execution_count": 104,
   "metadata": {},
   "outputs": [
    {
     "data": {
      "text/plain": [
       "<matplotlib.axes._subplots.AxesSubplot at 0x7f8e3cb322e8>"
      ]
     },
     "execution_count": 104,
     "metadata": {},
     "output_type": "execute_result"
    },
    {
     "data": {
      "image/png": "[encoded data removed]",
      "text/plain": [
       "<Figure size 432x288 with 1 Axes>"
      ]
     },
     "metadata": {
      "needs_background": "light"
     },
     "output_type": "display_data"
    }
   ],
   "source": [
    "from matplotlib import pyplot as plt\n",
    "pd_data['count'].hist()"
   ]
  },
  {
   "cell_type": "markdown",
   "metadata": {},
   "source": [
    "### Не делаем никаких изменений с входными партициями"
   ]
  },
  {
   "cell_type": "code",
   "execution_count": 231,
   "metadata": {},
   "outputs": [],
   "source": [
    "conf = SparkConf()\n",
    "conf = conf.set('spark.driver.memory', '512m')\n",
    "conf = conf.set('spark.executor.memory', '1g')\n",
    "conf = conf.set('spark.executor.cores', '2')"
   ]
  },
  {
   "cell_type": "code",
   "execution_count": 232,
   "metadata": {},
   "outputs": [],
   "source": [
    "sc = SparkContext(MASTER_URL, appName=\"SQL API. Financial\", conf=conf)"
   ]
  },
  {
   "cell_type": "code",
   "execution_count": 234,
   "metadata": {},
   "outputs": [],
   "source": [
    "sql = SparkSession(sc)"
   ]
  },
  {
   "cell_type": "code",
   "execution_count": 238,
   "metadata": {},
   "outputs": [],
   "source": [
    "data = sql.read.csv(os.path.join(PATH_TO_FILES, 'financial', 'original', 'trans.csv'.format(fname)), header=True, sep=';')\n",
    "data.registerTempTable('trans_default')"
   ]
  },
  {
   "cell_type": "code",
   "execution_count": 239,
   "metadata": {},
   "outputs": [],
   "source": [
    "collected = sql.sql(\"\"\"\n",
    "    SELECT \n",
    "        account_id,\n",
    "        collect_list(amount) as ts\n",
    "    FROM \n",
    "        trans_default\n",
    "    GROUP BY account_id\n",
    "\"\"\")"
   ]
  },
  {
   "cell_type": "code",
   "execution_count": 240,
   "metadata": {},
   "outputs": [
    {
     "name": "stdout",
     "output_type": "stream",
     "text": [
      "+----------+--------------------+\n",
      "|account_id|           ts_unique|\n",
      "+----------+--------------------+\n",
      "|     10351|[800.00, 6616.00,...|\n",
      "|     10436|[800.00, 7496.00,...|\n",
      "|      1090|[1000.00, 6318.00...|\n",
      "|      1159|[400.00, 10874.00...|\n",
      "|      1436|[500.00, 6986.00,...|\n",
      "|      1512|[900.00, 3500.00,...|\n",
      "|      2088|[400.00, 4861.00,...|\n",
      "|      2294|[900.00, 13831.00...|\n",
      "|      2904|[800.00, 15946.00...|\n",
      "|       296|[300.00, 3970.00,...|\n",
      "|      3210|[1000.00, 36658.0...|\n",
      "|      3606|[900.00, 6784.00,...|\n",
      "|      3959|[300.00, 16806.00...|\n",
      "|       467|[500.00, 10249.00...|\n",
      "|      4937|[700.00, 44455.00...|\n",
      "|       675|[900.00, 9538.00,...|\n",
      "|       691|[1100.00, 5013.00...|\n",
      "|       829|[800.00, 3181.00,...|\n",
      "|      9030|[200.00, 17592.00...|\n",
      "|      9583|[300.00, 14600.00...|\n",
      "+----------+--------------------+\n",
      "only showing top 20 rows\n",
      "\n"
     ]
    }
   ],
   "source": [
    "collected.select('account_id', F.array_distinct('ts').alias('ts_unique')).show()"
   ]
  },
  {
   "cell_type": "markdown",
   "metadata": {},
   "source": [
    "### просто сделаем партиционирование на 10 равных частей"
   ]
  },
  {
   "cell_type": "code",
   "execution_count": 193,
   "metadata": {},
   "outputs": [],
   "source": [
    "data = sql.read.csv(os.path.join(PATH_TO_FILES, 'financial', 'original', 'trans.csv'.format(fname)), header=True, sep=';')"
   ]
  },
  {
   "cell_type": "code",
   "execution_count": 194,
   "metadata": {},
   "outputs": [],
   "source": [
    "data = data.repartition(10)"
   ]
  },
  {
   "cell_type": "code",
   "execution_count": 195,
   "metadata": {},
   "outputs": [
    {
     "data": {
      "text/plain": [
       "10"
      ]
     },
     "execution_count": 195,
     "metadata": {},
     "output_type": "execute_result"
    }
   ],
   "source": [
    "data.rdd.getNumPartitions()"
   ]
  },
  {
   "cell_type": "code",
   "execution_count": 196,
   "metadata": {},
   "outputs": [],
   "source": [
    "data.registerTempTable('trans_10_parts')"
   ]
  },
  {
   "cell_type": "code",
   "execution_count": 197,
   "metadata": {},
   "outputs": [],
   "source": [
    "collected = sql.sql(\"\"\"\n",
    "    SELECT \n",
    "        account_id,\n",
    "        collect_list(amount) as ts\n",
    "    FROM \n",
    "        trans_10_parts\n",
    "    GROUP BY account_id\n",
    "\"\"\")"
   ]
  },
  {
   "cell_type": "code",
   "execution_count": 114,
   "metadata": {},
   "outputs": [
    {
     "data": {
      "text/plain": [
       "200"
      ]
     },
     "execution_count": 114,
     "metadata": {},
     "output_type": "execute_result"
    }
   ],
   "source": [
    "collected.rdd.getNumPartitions()"
   ]
  },
  {
   "cell_type": "code",
   "execution_count": 198,
   "metadata": {},
   "outputs": [
    {
     "name": "stdout",
     "output_type": "stream",
     "text": [
      "+----------+--------------------+\n",
      "|account_id|           ts_unique|\n",
      "+----------+--------------------+\n",
      "|     10351|[14.60, 6616.00, ...|\n",
      "|     10436|[153.90, 143.70, ...|\n",
      "|      1090|[29.30, 119.10, 9...|\n",
      "|      1159|[3000.00, 3360.00...|\n",
      "|      1436|[400.00, 3800.00,...|\n",
      "|      1512|[3100.00, 131.90,...|\n",
      "|      1572|[5600.00, 14.60, ...|\n",
      "|      2069|[14.60, 484.00, 2...|\n",
      "|      2088|[101.60, 4861.00,...|\n",
      "|      2136|[1000.00, 9816.00...|\n",
      "|      2162|[48099.00, 2500.0...|\n",
      "|      2294|[14.60, 900.00, 1...|\n",
      "|      2904|[15946.00, 6200.0...|\n",
      "|       296|[75.60, 3970.00, ...|\n",
      "|      3210|[3600.00, 24439.0...|\n",
      "|      3606|[112.10, 119.00, ...|\n",
      "|      3959|[10100.00, 180.60...|\n",
      "|       467|[84.00, 14.60, 94...|\n",
      "|      4937|[5996.20, 293.10,...|\n",
      "|       675|[2400.00, 155.50,...|\n",
      "+----------+--------------------+\n",
      "only showing top 20 rows\n",
      "\n"
     ]
    }
   ],
   "source": [
    "collected.select('account_id', F.array_distinct('ts').alias('ts_unique')).show()"
   ]
  },
  {
   "cell_type": "markdown",
   "metadata": {},
   "source": [
    "### Предположение. У старых аккаунтов транзакций больше.\n",
    "#### Мы отправим половину массы распределения на один исполнитель, а другую половину на другой"
   ]
  },
  {
   "cell_type": "code",
   "execution_count": 123,
   "metadata": {},
   "outputs": [],
   "source": [
    "account = sql.sql('select account_id, date from account')\n",
    "pd_data_with_date = data.groupby('account_id').count().join(account, on=['account_id']).toPandas()"
   ]
  },
  {
   "cell_type": "code",
   "execution_count": 128,
   "metadata": {},
   "outputs": [],
   "source": [
    "import pandas as pd\n",
    "pd_data_with_date['date'] = pd.to_datetime(pd_data_with_date['date'])"
   ]
  },
  {
   "cell_type": "code",
   "execution_count": 131,
   "metadata": {},
   "outputs": [],
   "source": [
    "pd_data_with_date = pd_data_with_date.rename({'count': 'ts_number'}, axis=1)"
   ]
  },
  {
   "cell_type": "code",
   "execution_count": 145,
   "metadata": {},
   "outputs": [
    {
     "data": {
      "text/plain": [
       "<matplotlib.collections.PathCollection at 0x7f8e381cc748>"
      ]
     },
     "execution_count": 145,
     "metadata": {},
     "output_type": "execute_result"
    },
    {
     "data": {
      "image/png": "[encoded data removed]",
      "text/plain": [
       "<Figure size 432x288 with 1 Axes>"
      ]
     },
     "metadata": {
      "needs_background": "light"
     },
     "output_type": "display_data"
    }
   ],
   "source": [
    "from matplotlib import pyplot as plt\n",
    "vals = pd_data_with_date.sort_values(by=['date','ts_number'])[['date', 'ts_number']]\n",
    "\n",
    "plt.scatter(vals['date'], vals['ts_number'])"
   ]
  },
  {
   "cell_type": "code",
   "execution_count": 155,
   "metadata": {},
   "outputs": [],
   "source": [
    "def get_year(r):\n",
    "    return r.year\n",
    "pd_data_with_date['year'] = pd_data_with_date['date'].apply(get_year)"
   ]
  },
  {
   "cell_type": "code",
   "execution_count": 166,
   "metadata": {},
   "outputs": [
    {
     "data": {
      "text/html": [
       "<div>\n",
       "<style scoped>\n",
       "    .dataframe tbody tr th:only-of-type {\n",
       "        vertical-align: middle;\n",
       "    }\n",
       "\n",
       "    .dataframe tbody tr th {\n",
       "        vertical-align: top;\n",
       "    }\n",
       "\n",
       "    .dataframe thead th {\n",
       "        text-align: right;\n",
       "    }\n",
       "</style>\n",
       "<table border=\"1\" class=\"dataframe\">\n",
       "  <thead>\n",
       "    <tr style=\"text-align: right;\">\n",
       "      <th></th>\n",
       "      <th>ts_number</th>\n",
       "      <th>ratio</th>\n",
       "    </tr>\n",
       "    <tr>\n",
       "      <th>year</th>\n",
       "      <th></th>\n",
       "      <th></th>\n",
       "    </tr>\n",
       "  </thead>\n",
       "  <tbody>\n",
       "    <tr>\n",
       "      <th>1993</th>\n",
       "      <td>445457</td>\n",
       "      <td>0.421706</td>\n",
       "    </tr>\n",
       "    <tr>\n",
       "      <th>1994</th>\n",
       "      <td>139388</td>\n",
       "      <td>0.131956</td>\n",
       "    </tr>\n",
       "    <tr>\n",
       "      <th>1995</th>\n",
       "      <td>159170</td>\n",
       "      <td>0.150684</td>\n",
       "    </tr>\n",
       "    <tr>\n",
       "      <th>1996</th>\n",
       "      <td>228420</td>\n",
       "      <td>0.216241</td>\n",
       "    </tr>\n",
       "    <tr>\n",
       "      <th>1997</th>\n",
       "      <td>83885</td>\n",
       "      <td>0.079412</td>\n",
       "    </tr>\n",
       "  </tbody>\n",
       "</table>\n",
       "</div>"
      ],
      "text/plain": [
       "      ts_number     ratio\n",
       "year                     \n",
       "1993     445457  0.421706\n",
       "1994     139388  0.131956\n",
       "1995     159170  0.150684\n",
       "1996     228420  0.216241\n",
       "1997      83885  0.079412"
      ]
     },
     "execution_count": 166,
     "metadata": {},
     "output_type": "execute_result"
    }
   ],
   "source": [
    "summed = pd_data_with_date.groupby('year').sum()\n",
    "summary = summed['ts_number'].sum()\n",
    "summed['ratio'] = summed / summary\n",
    "summed"
   ]
  },
  {
   "cell_type": "code",
   "execution_count": 221,
   "metadata": {},
   "outputs": [],
   "source": [
    "data = sql.read.csv(os.path.join(PATH_TO_FILES, 'financial', 'original', 'trans.csv'.format(fname)), header=True, sep=';')"
   ]
  },
  {
   "cell_type": "code",
   "execution_count": 222,
   "metadata": {},
   "outputs": [],
   "source": [
    "def my_partitioner(year_value):\n",
    "    if year_value < 1995:\n",
    "        return 0\n",
    "    else:\n",
    "        return 1\n",
    "    \n",
    "from pyspark.sql.functions import unix_timestamp, from_unixtime\n",
    "    \n",
    "data = data.select('account_id', 'amount').join(account, on=['account_id']).select('account_id', 'amount', F.substring(F.col('date'), 0, 2).alias('date'))\n",
    "data = data.select('*', F.when(F.col('date') == '93', 1000).when(F.col('date') == '94', 1000).otherwise(1000000).alias('partitioner'))\n",
    "#data.filter(F.col('partitioner') == 1).show()"
   ]
  },
  {
   "cell_type": "code",
   "execution_count": 223,
   "metadata": {},
   "outputs": [],
   "source": [
    "data = data.repartition(2, F.col('partitioner'))"
   ]
  },
  {
   "cell_type": "code",
   "execution_count": 224,
   "metadata": {},
   "outputs": [
    {
     "data": {
      "text/plain": [
       "2"
      ]
     },
     "execution_count": 224,
     "metadata": {},
     "output_type": "execute_result"
    }
   ],
   "source": [
    "data.rdd.getNumPartitions()"
   ]
  },
  {
   "cell_type": "code",
   "execution_count": 225,
   "metadata": {},
   "outputs": [],
   "source": [
    "data.registerTempTable('trans_custom_partitioner_3')"
   ]
  },
  {
   "cell_type": "code",
   "execution_count": 226,
   "metadata": {},
   "outputs": [],
   "source": [
    "collected = sql.sql(\"\"\"\n",
    "    SELECT \n",
    "        account_id,\n",
    "        collect_list(amount) as ts\n",
    "    FROM \n",
    "        trans_custom_partitioner_3\n",
    "    GROUP BY account_id\n",
    "\"\"\")"
   ]
  },
  {
   "cell_type": "code",
   "execution_count": 227,
   "metadata": {},
   "outputs": [
    {
     "data": {
      "text/plain": [
       "200"
      ]
     },
     "execution_count": 227,
     "metadata": {},
     "output_type": "execute_result"
    }
   ],
   "source": [
    "collected.rdd.getNumPartitions()"
   ]
  },
  {
   "cell_type": "code",
   "execution_count": 228,
   "metadata": {},
   "outputs": [
    {
     "name": "stdout",
     "output_type": "stream",
     "text": [
      "+----------+--------------------+\n",
      "|account_id|           ts_unique|\n",
      "+----------+--------------------+\n",
      "|     10351|[14.60, 800.00, 9...|\n",
      "|     10436|[14.60, 800.00, 2...|\n",
      "|      1090|[14.60, 1000.00, ...|\n",
      "|      1572|[14.60, 500.00, 7...|\n",
      "|      2069|[219.20, 900.00, ...|\n",
      "|      2136|[115.70, 600.00, ...|\n",
      "|      2162|[14.60, 26891.00,...|\n",
      "|      2294|[14.60, 900.00, 1...|\n",
      "|      2904|[271.80, 800.00, ...|\n",
      "|       296|[60.90, 300.00, 1...|\n",
      "|      3606|[277.30, 900.00, ...|\n",
      "|      3959|[300.00, 30.00, 1...|\n",
      "|       675|[243.90, 900.00, ...|\n",
      "|       691|[79.10, 1100.00, ...|\n",
      "|       829|[107.20, 800.00, ...|\n",
      "|      9030|[197.60, 6600.00,...|\n",
      "|      1159|[3100.00, 400.00,...|\n",
      "|      1436|[2900.00, 500.00,...|\n",
      "|      1512|[9900.00, 900.00,...|\n",
      "|      2088|[74.10, 400.00, 1...|\n",
      "+----------+--------------------+\n",
      "only showing top 20 rows\n",
      "\n"
     ]
    }
   ],
   "source": [
    "collected.select('account_id', F.array_distinct('ts').alias('ts_unique')).show()"
   ]
  },
  {
   "cell_type": "code",
   "execution_count": 241,
   "metadata": {},
   "outputs": [],
   "source": [
    "sql.stop()"
   ]
  },
  {
   "cell_type": "code",
   "execution_count": 242,
   "metadata": {},
   "outputs": [],
   "source": [
    "sc.stop()"
   ]
  },
  {
   "cell_type": "code",
   "execution_count": null,
   "metadata": {},
   "outputs": [],
   "source": []
  }
 ],
 "metadata": {
  "kernelspec": {
   "display_name": "Python 3",
   "language": "python",
   "name": "python3"
  },
  "language_info": {
   "codemirror_mode": {
    "name": "ipython",
    "version": 3
   },
   "file_extension": ".py",
   "mimetype": "text/x-python",
   "name": "python",
   "nbconvert_exporter": "python",
   "pygments_lexer": "ipython3",
   "version": "3.5.6"
  }
 },
 "nbformat": 4,
 "nbformat_minor": 4
}
