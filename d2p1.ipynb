{
 "cells": [
  {
   "cell_type": "markdown",
   "metadata": {},
   "source": [
    "# Spark SQL API"
   ]
  },
  {
   "cell_type": "code",
   "execution_count": 3,
   "metadata": {},
   "outputs": [],
   "source": [
    "from pyspark import SparkConf\n",
    "from pyspark import SparkContext"
   ]
  },
  {
   "cell_type": "code",
   "execution_count": 4,
   "metadata": {},
   "outputs": [],
   "source": [
    "import os\n",
    "PATH_TO_FILES = '/home/dmitry/pyspark-training/files'\n",
    "MASTER_URL = 'spark://185739.simplecloud.ru:7077'"
   ]
  },
  {
   "cell_type": "code",
   "execution_count": 5,
   "metadata": {},
   "outputs": [],
   "source": [
    "conf = SparkConf()\n",
    "conf = conf.set('spark.driver.memory', '512m')\n",
    "conf = conf.set('spark.executor.memory', '512m')\n",
    "conf = conf.set('spark.executor.cores', '2')"
   ]
  },
  {
   "cell_type": "code",
   "execution_count": 6,
   "metadata": {},
   "outputs": [],
   "source": [
    "sc = SparkContext(MASTER_URL, appName=\"SQL API\", conf=conf)"
   ]
  },
  {
   "cell_type": "code",
   "execution_count": 7,
   "metadata": {},
   "outputs": [],
   "source": [
    "from pyspark.sql import SparkSession"
   ]
  },
  {
   "cell_type": "code",
   "execution_count": 8,
   "metadata": {},
   "outputs": [],
   "source": [
    "sql = SparkSession(sc)"
   ]
  },
  {
   "cell_type": "code",
   "execution_count": 9,
   "metadata": {},
   "outputs": [
    {
     "data": {
      "text/html": [
       "\n",
       "            <div>\n",
       "                <p><b>SparkSession - in-memory</b></p>\n",
       "                \n",
       "        <div>\n",
       "            <p><b>SparkContext</b></p>\n",
       "\n",
       "            <p><a href=\"http://185739.simplecloud.ru:4040\">Spark UI</a></p>\n",
       "\n",
       "            <dl>\n",
       "              <dt>Version</dt>\n",
       "                <dd><code>v2.4.5</code></dd>\n",
       "              <dt>Master</dt>\n",
       "                <dd><code>spark://185739.simplecloud.ru:7077</code></dd>\n",
       "              <dt>AppName</dt>\n",
       "                <dd><code>SQL API</code></dd>\n",
       "            </dl>\n",
       "        </div>\n",
       "        \n",
       "            </div>\n",
       "        "
      ],
      "text/plain": [
       "<pyspark.sql.session.SparkSession at 0x7fcc8435de80>"
      ]
     },
     "execution_count": 9,
     "metadata": {},
     "output_type": "execute_result"
    }
   ],
   "source": [
    "sql"
   ]
  },
  {
   "cell_type": "code",
   "execution_count": 10,
   "metadata": {},
   "outputs": [],
   "source": [
    "data = sql.read.json(os.path.join(PATH_TO_FILES, 'character.json'))"
   ]
  },
  {
   "cell_type": "code",
   "execution_count": 11,
   "metadata": {},
   "outputs": [
    {
     "name": "stdout",
     "output_type": "stream",
     "text": [
      "root\n",
      " |-- created: string (nullable = true)\n",
      " |-- episode: array (nullable = true)\n",
      " |    |-- element: string (containsNull = true)\n",
      " |-- gender: string (nullable = true)\n",
      " |-- id: long (nullable = true)\n",
      " |-- image: string (nullable = true)\n",
      " |-- location: struct (nullable = true)\n",
      " |    |-- name: string (nullable = true)\n",
      " |    |-- url: string (nullable = true)\n",
      " |-- name: string (nullable = true)\n",
      " |-- origin: struct (nullable = true)\n",
      " |    |-- name: string (nullable = true)\n",
      " |    |-- url: string (nullable = true)\n",
      " |-- species: string (nullable = true)\n",
      " |-- status: string (nullable = true)\n",
      " |-- type: string (nullable = true)\n",
      " |-- url: string (nullable = true)\n",
      "\n"
     ]
    }
   ],
   "source": [
    "data.printSchema()"
   ]
  },
  {
   "cell_type": "code",
   "execution_count": 12,
   "metadata": {},
   "outputs": [
    {
     "data": {
      "text/plain": [
       "DataFrame[created: string, episode: array<string>, gender: string, id: bigint, image: string, location: struct<name:string,url:string>, name: string, origin: struct<name:string,url:string>, species: string, status: string, type: string, url: string]"
      ]
     },
     "execution_count": 12,
     "metadata": {},
     "output_type": "execute_result"
    }
   ],
   "source": [
    "data"
   ]
  },
  {
   "cell_type": "code",
   "execution_count": 13,
   "metadata": {},
   "outputs": [
    {
     "data": {
      "text/plain": [
       "['created',\n",
       " 'episode',\n",
       " 'gender',\n",
       " 'id',\n",
       " 'image',\n",
       " 'location',\n",
       " 'name',\n",
       " 'origin',\n",
       " 'species',\n",
       " 'status',\n",
       " 'type',\n",
       " 'url']"
      ]
     },
     "execution_count": 13,
     "metadata": {},
     "output_type": "execute_result"
    }
   ],
   "source": [
    "data.columns"
   ]
  },
  {
   "cell_type": "code",
   "execution_count": 14,
   "metadata": {},
   "outputs": [],
   "source": [
    "data.registerTempTable('rick_and_morty_characters')"
   ]
  },
  {
   "cell_type": "code",
   "execution_count": 15,
   "metadata": {},
   "outputs": [
    {
     "name": "stdout",
     "output_type": "stream",
     "text": [
      "+--------------------+-------+\n",
      "|                name| gender|\n",
      "+--------------------+-------+\n",
      "|        Rick Sanchez|   Male|\n",
      "|         Morty Smith|   Male|\n",
      "|        Summer Smith| Female|\n",
      "|          Beth Smith| Female|\n",
      "|         Jerry Smith|   Male|\n",
      "|Abadango Cluster ...| Female|\n",
      "|    Abradolf Lincler|   Male|\n",
      "|    Adjudicator Rick|   Male|\n",
      "|     Agency Director|   Male|\n",
      "|          Alan Rails|   Male|\n",
      "|     Albert Einstein|   Male|\n",
      "|           Alexander|   Male|\n",
      "|        Alien Googah|unknown|\n",
      "|         Alien Morty|   Male|\n",
      "|          Alien Rick|   Male|\n",
      "|        Amish Cyborg|   Male|\n",
      "|               Annie| Female|\n",
      "|       Antenna Morty|   Male|\n",
      "|        Antenna Rick|   Male|\n",
      "|Ants in my Eyes J...|   Male|\n",
      "+--------------------+-------+\n",
      "\n"
     ]
    }
   ],
   "source": [
    "sql.sql(\"select name, gender from rick_and_morty_characters\").show()"
   ]
  },
  {
   "cell_type": "code",
   "execution_count": 19,
   "metadata": {},
   "outputs": [
    {
     "name": "stdout",
     "output_type": "stream",
     "text": [
      "+--------------------+------+-------+\n",
      "|                name|gender| status|\n",
      "+--------------------+------+-------+\n",
      "|        Rick Sanchez|  Male|  Alive|\n",
      "|         Morty Smith|  Male|  Alive|\n",
      "|         Jerry Smith|  Male|  Alive|\n",
      "|Ants in my Eyes J...|  Male|unknown|\n",
      "|        Antenna Rick|  Male|unknown|\n",
      "|       Antenna Morty|  Male|  Alive|\n",
      "|        Amish Cyborg|  Male|   Dead|\n",
      "|          Alien Rick|  Male|unknown|\n",
      "|         Alien Morty|  Male|unknown|\n",
      "|           Alexander|  Male|   Dead|\n",
      "|     Albert Einstein|  Male|   Dead|\n",
      "|          Alan Rails|  Male|   Dead|\n",
      "|     Agency Director|  Male|   Dead|\n",
      "|    Adjudicator Rick|  Male|   Dead|\n",
      "|    Abradolf Lincler|  Male|unknown|\n",
      "+--------------------+------+-------+\n",
      "\n"
     ]
    }
   ],
   "source": [
    "sql.sql(\"\"\"\n",
    "    SELECT \n",
    "        name, \n",
    "        gender,\n",
    "        status\n",
    "    FROM \n",
    "        rick_and_morty_characters\n",
    "    WHERE\n",
    "        gender='Male'\n",
    "    ORDER BY name DESC\n",
    "\"\"\").show(100)"
   ]
  },
  {
   "cell_type": "code",
   "execution_count": 21,
   "metadata": {},
   "outputs": [
    {
     "name": "stdout",
     "output_type": "stream",
     "text": [
      "+--------------------+------+-------+--------------------+------+-------+\n",
      "|                name|gender| status|                name|gender| status|\n",
      "+--------------------+------+-------+--------------------+------+-------+\n",
      "|        Rick Sanchez|  Male|  Alive|        Rick Sanchez|  Male|  Alive|\n",
      "|         Morty Smith|  Male|  Alive|         Morty Smith|  Male|  Alive|\n",
      "|         Jerry Smith|  Male|  Alive|         Jerry Smith|  Male|  Alive|\n",
      "|Ants in my Eyes J...|  Male|unknown|Ants in my Eyes J...|  Male|unknown|\n",
      "|        Antenna Rick|  Male|unknown|        Antenna Rick|  Male|unknown|\n",
      "|       Antenna Morty|  Male|  Alive|       Antenna Morty|  Male|  Alive|\n",
      "|        Amish Cyborg|  Male|   Dead|        Amish Cyborg|  Male|   Dead|\n",
      "|          Alien Rick|  Male|unknown|          Alien Rick|  Male|unknown|\n",
      "|         Alien Morty|  Male|unknown|         Alien Morty|  Male|unknown|\n",
      "|           Alexander|  Male|   Dead|           Alexander|  Male|   Dead|\n",
      "|     Albert Einstein|  Male|   Dead|     Albert Einstein|  Male|   Dead|\n",
      "|          Alan Rails|  Male|   Dead|          Alan Rails|  Male|   Dead|\n",
      "|     Agency Director|  Male|   Dead|     Agency Director|  Male|   Dead|\n",
      "|    Adjudicator Rick|  Male|   Dead|    Adjudicator Rick|  Male|   Dead|\n",
      "|    Abradolf Lincler|  Male|unknown|    Abradolf Lincler|  Male|unknown|\n",
      "+--------------------+------+-------+--------------------+------+-------+\n",
      "\n"
     ]
    }
   ],
   "source": [
    "sql.sql(\"\"\"\n",
    "    SELECT\n",
    "        *\n",
    "    FROM\n",
    "        (SELECT \n",
    "            name, \n",
    "            gender,\n",
    "            status\n",
    "        FROM \n",
    "            rick_and_morty_characters\n",
    "        WHERE\n",
    "            gender='Male'\n",
    "        ORDER BY name DESC) as t1\n",
    "    INNER JOIN\n",
    "        (SELECT \n",
    "            name, \n",
    "            gender,\n",
    "            status\n",
    "        FROM \n",
    "            rick_and_morty_characters\n",
    "        WHERE\n",
    "            gender='Male'\n",
    "        ORDER BY name DESC) as t2\n",
    "    ON t1.name = t2.name\n",
    "        \n",
    "\"\"\").show(100)"
   ]
  },
  {
   "cell_type": "code",
   "execution_count": 22,
   "metadata": {},
   "outputs": [],
   "source": [
    "from pyspark.sql import functions as F"
   ]
  },
  {
   "cell_type": "code",
   "execution_count": 27,
   "metadata": {},
   "outputs": [
    {
     "name": "stdout",
     "output_type": "stream",
     "text": [
      "+--------------------+------+-------+\n",
      "|                name|gender| status|\n",
      "+--------------------+------+-------+\n",
      "|        Rick Sanchez|  Male|  Alive|\n",
      "|         Morty Smith|  Male|  Alive|\n",
      "|         Jerry Smith|  Male|  Alive|\n",
      "|Ants in my Eyes J...|  Male|unknown|\n",
      "|        Antenna Rick|  Male|unknown|\n",
      "|       Antenna Morty|  Male|  Alive|\n",
      "|        Amish Cyborg|  Male|   Dead|\n",
      "|          Alien Rick|  Male|unknown|\n",
      "|         Alien Morty|  Male|unknown|\n",
      "|           Alexander|  Male|   Dead|\n",
      "|     Albert Einstein|  Male|   Dead|\n",
      "|          Alan Rails|  Male|   Dead|\n",
      "|     Agency Director|  Male|   Dead|\n",
      "|    Adjudicator Rick|  Male|   Dead|\n",
      "|    Abradolf Lincler|  Male|unknown|\n",
      "+--------------------+------+-------+\n",
      "\n"
     ]
    }
   ],
   "source": [
    "data.where(F.col('gender') == 'Male').orderBy(F.col('name').desc()).select('name', 'gender', 'status').show()"
   ]
  },
  {
   "cell_type": "code",
   "execution_count": 33,
   "metadata": {},
   "outputs": [
    {
     "data": {
      "text/plain": [
       "DataFrame[name: string, gender: string, status: string]"
      ]
     },
     "execution_count": 33,
     "metadata": {},
     "output_type": "execute_result"
    }
   ],
   "source": [
    "part = data.where(F.col('gender') == 'Male').orderBy(F.col('name').desc()).select('name', 'gender', 'status')\n",
    "part"
   ]
  },
  {
   "cell_type": "code",
   "execution_count": 34,
   "metadata": {},
   "outputs": [
    {
     "data": {
      "text/plain": [
       "DataFrame[name: string, gender: string, status: string]"
      ]
     },
     "execution_count": 34,
     "metadata": {},
     "output_type": "execute_result"
    }
   ],
   "source": [
    "part.persist()"
   ]
  },
  {
   "cell_type": "code",
   "execution_count": 36,
   "metadata": {},
   "outputs": [
    {
     "name": "stdout",
     "output_type": "stream",
     "text": [
      "+--------------------+------+-------+------+-------+\n",
      "|                name|gender| status|gender| status|\n",
      "+--------------------+------+-------+------+-------+\n",
      "|        Rick Sanchez|  Male|  Alive|  Male|  Alive|\n",
      "|         Morty Smith|  Male|  Alive|  Male|  Alive|\n",
      "|         Jerry Smith|  Male|  Alive|  Male|  Alive|\n",
      "|Ants in my Eyes J...|  Male|unknown|  Male|unknown|\n",
      "|        Antenna Rick|  Male|unknown|  Male|unknown|\n",
      "|       Antenna Morty|  Male|  Alive|  Male|  Alive|\n",
      "|        Amish Cyborg|  Male|   Dead|  Male|   Dead|\n",
      "|          Alien Rick|  Male|unknown|  Male|unknown|\n",
      "|         Alien Morty|  Male|unknown|  Male|unknown|\n",
      "|           Alexander|  Male|   Dead|  Male|   Dead|\n",
      "|     Albert Einstein|  Male|   Dead|  Male|   Dead|\n",
      "|          Alan Rails|  Male|   Dead|  Male|   Dead|\n",
      "|     Agency Director|  Male|   Dead|  Male|   Dead|\n",
      "|    Adjudicator Rick|  Male|   Dead|  Male|   Dead|\n",
      "|    Abradolf Lincler|  Male|unknown|  Male|unknown|\n",
      "+--------------------+------+-------+------+-------+\n",
      "\n"
     ]
    }
   ],
   "source": [
    "part.join(part, on=['name', ], how='inner').show()"
   ]
  },
  {
   "cell_type": "code",
   "execution_count": 32,
   "metadata": {},
   "outputs": [
    {
     "name": "stdout",
     "output_type": "stream",
     "text": [
      "+--------------------+------+-------+--------------------+------+-------+\n",
      "|                name|gender| status|                name|gender| status|\n",
      "+--------------------+------+-------+--------------------+------+-------+\n",
      "|        Rick Sanchez|  Male|  Alive|        Rick Sanchez|  Male|  Alive|\n",
      "|         Morty Smith|  Male|  Alive|         Morty Smith|  Male|  Alive|\n",
      "|         Jerry Smith|  Male|  Alive|         Jerry Smith|  Male|  Alive|\n",
      "|Ants in my Eyes J...|  Male|unknown|Ants in my Eyes J...|  Male|unknown|\n",
      "|        Antenna Rick|  Male|unknown|        Antenna Rick|  Male|unknown|\n",
      "|       Antenna Morty|  Male|  Alive|       Antenna Morty|  Male|  Alive|\n",
      "|        Amish Cyborg|  Male|   Dead|        Amish Cyborg|  Male|   Dead|\n",
      "|          Alien Rick|  Male|unknown|          Alien Rick|  Male|unknown|\n",
      "|         Alien Morty|  Male|unknown|         Alien Morty|  Male|unknown|\n",
      "|           Alexander|  Male|   Dead|           Alexander|  Male|   Dead|\n",
      "|     Albert Einstein|  Male|   Dead|     Albert Einstein|  Male|   Dead|\n",
      "|          Alan Rails|  Male|   Dead|          Alan Rails|  Male|   Dead|\n",
      "|     Agency Director|  Male|   Dead|     Agency Director|  Male|   Dead|\n",
      "|    Adjudicator Rick|  Male|   Dead|    Adjudicator Rick|  Male|   Dead|\n",
      "|    Abradolf Lincler|  Male|unknown|    Abradolf Lincler|  Male|unknown|\n",
      "+--------------------+------+-------+--------------------+------+-------+\n",
      "\n"
     ]
    }
   ],
   "source": [
    "part.join(part, on=part['name'] == part['name'], how='inner').show() # копируются колонки из обоих операндов"
   ]
  },
  {
   "cell_type": "code",
   "execution_count": 37,
   "metadata": {},
   "outputs": [
    {
     "data": {
      "text/plain": [
       "DataFrame[name: string, gender: string, status: string]"
      ]
     },
     "execution_count": 37,
     "metadata": {},
     "output_type": "execute_result"
    }
   ],
   "source": [
    "part.unpersist()"
   ]
  },
  {
   "cell_type": "code",
   "execution_count": null,
   "metadata": {},
   "outputs": [],
   "source": []
  },
  {
   "cell_type": "code",
   "execution_count": 38,
   "metadata": {},
   "outputs": [],
   "source": [
    "new_data = part.join(part, on=['name', ], how='inner')"
   ]
  },
  {
   "cell_type": "code",
   "execution_count": 40,
   "metadata": {},
   "outputs": [
    {
     "name": "stdout",
     "output_type": "stream",
     "text": [
      "== Parsed Logical Plan ==\n",
      "'Join UsingJoin(Inner,Buffer(name))\n",
      ":- Project [name#12, gender#8, status#15]\n",
      ":  +- Sort [name#12 DESC NULLS LAST], true\n",
      ":     +- Filter (gender#8 = Male)\n",
      ":        +- Relation[created#6,episode#7,gender#8,id#9L,image#10,location#11,name#12,origin#13,species#14,status#15,type#16,url#17] json\n",
      "+- Project [name#556, gender#552, status#559]\n",
      "   +- Sort [name#556 DESC NULLS LAST], true\n",
      "      +- Filter (gender#552 = Male)\n",
      "         +- Relation[created#550,episode#551,gender#552,id#553L,image#554,location#555,name#556,origin#557,species#558,status#559,type#560,url#561] json\n",
      "\n",
      "== Analyzed Logical Plan ==\n",
      "name: string, gender: string, status: string, gender: string, status: string\n",
      "Project [name#12, gender#8, status#15, gender#552, status#559]\n",
      "+- Join Inner, (name#12 = name#556)\n",
      "   :- Project [name#12, gender#8, status#15]\n",
      "   :  +- Sort [name#12 DESC NULLS LAST], true\n",
      "   :     +- Filter (gender#8 = Male)\n",
      "   :        +- Relation[created#6,episode#7,gender#8,id#9L,image#10,location#11,name#12,origin#13,species#14,status#15,type#16,url#17] json\n",
      "   +- Project [name#556, gender#552, status#559]\n",
      "      +- Sort [name#556 DESC NULLS LAST], true\n",
      "         +- Filter (gender#552 = Male)\n",
      "            +- Relation[created#550,episode#551,gender#552,id#553L,image#554,location#555,name#556,origin#557,species#558,status#559,type#560,url#561] json\n",
      "\n",
      "== Optimized Logical Plan ==\n",
      "Project [name#12, gender#8, status#15, gender#552, status#559]\n",
      "+- Join Inner, (name#12 = name#556)\n",
      "   :- Project [name#12, gender#8, status#15]\n",
      "   :  +- Sort [name#12 DESC NULLS LAST], true\n",
      "   :     +- Project [gender#8, name#12, status#15]\n",
      "   :        +- Filter ((isnotnull(gender#8) && (gender#8 = Male)) && isnotnull(name#12))\n",
      "   :           +- Relation[created#6,episode#7,gender#8,id#9L,image#10,location#11,name#12,origin#13,species#14,status#15,type#16,url#17] json\n",
      "   +- Project [name#556, gender#552, status#559]\n",
      "      +- Sort [name#556 DESC NULLS LAST], true\n",
      "         +- Project [gender#552, name#556, status#559]\n",
      "            +- Filter ((isnotnull(gender#552) && (gender#552 = Male)) && isnotnull(name#556))\n",
      "               +- Relation[created#550,episode#551,gender#552,id#553L,image#554,location#555,name#556,origin#557,species#558,status#559,type#560,url#561] json\n",
      "\n",
      "== Physical Plan ==\n",
      "*(4) Project [name#12, gender#8, status#15, gender#552, status#559]\n",
      "+- *(4) BroadcastHashJoin [name#12], [name#556], Inner, BuildRight\n",
      "   :- *(4) Project [name#12, gender#8, status#15]\n",
      "   :  +- *(4) Sort [name#12 DESC NULLS LAST], true, 0\n",
      "   :     +- Exchange rangepartitioning(name#12 DESC NULLS LAST, 200)\n",
      "   :        +- *(1) Project [gender#8, name#12, status#15]\n",
      "   :           +- *(1) Filter ((isnotnull(gender#8) && (gender#8 = Male)) && isnotnull(name#12))\n",
      "   :              +- *(1) FileScan json [gender#8,name#12,status#15] Batched: false, Format: JSON, Location: InMemoryFileIndex[file:/home/dmitry/pyspark-training/files/character.json], PartitionFilters: [], PushedFilters: [IsNotNull(gender), EqualTo(gender,Male), IsNotNull(name)], ReadSchema: struct<gender:string,name:string,status:string>\n",
      "   +- BroadcastExchange HashedRelationBroadcastMode(List(input[0, string, true]))\n",
      "      +- *(3) Project [name#556, gender#552, status#559]\n",
      "         +- *(3) Sort [name#556 DESC NULLS LAST], true, 0\n",
      "            +- ReusedExchange [gender#552, name#556, status#559], Exchange rangepartitioning(name#12 DESC NULLS LAST, 200)\n"
     ]
    }
   ],
   "source": [
    "new_data.explain(True) # логический план"
   ]
  },
  {
   "cell_type": "code",
   "execution_count": 39,
   "metadata": {},
   "outputs": [
    {
     "name": "stdout",
     "output_type": "stream",
     "text": [
      "== Physical Plan ==\n",
      "*(4) Project [name#12, gender#8, status#15, gender#552, status#559]\n",
      "+- *(4) BroadcastHashJoin [name#12], [name#556], Inner, BuildRight\n",
      "   :- *(4) Project [name#12, gender#8, status#15]\n",
      "   :  +- *(4) Sort [name#12 DESC NULLS LAST], true, 0\n",
      "   :     +- Exchange rangepartitioning(name#12 DESC NULLS LAST, 200)\n",
      "   :        +- *(1) Project [gender#8, name#12, status#15]\n",
      "   :           +- *(1) Filter ((isnotnull(gender#8) && (gender#8 = Male)) && isnotnull(name#12))\n",
      "   :              +- *(1) FileScan json [gender#8,name#12,status#15] Batched: false, Format: JSON, Location: InMemoryFileIndex[file:/home/dmitry/pyspark-training/files/character.json], PartitionFilters: [], PushedFilters: [IsNotNull(gender), EqualTo(gender,Male), IsNotNull(name)], ReadSchema: struct<gender:string,name:string,status:string>\n",
      "   +- BroadcastExchange HashedRelationBroadcastMode(List(input[0, string, true]))\n",
      "      +- *(3) Project [name#556, gender#552, status#559]\n",
      "         +- *(3) Sort [name#556 DESC NULLS LAST], true, 0\n",
      "            +- ReusedExchange [gender#552, name#556, status#559], Exchange rangepartitioning(name#12 DESC NULLS LAST, 200)\n"
     ]
    }
   ],
   "source": [
    "new_data.explain(False) # только физический план"
   ]
  },
  {
   "cell_type": "code",
   "execution_count": 41,
   "metadata": {},
   "outputs": [],
   "source": [
    "sql.stop()"
   ]
  },
  {
   "cell_type": "code",
   "execution_count": 42,
   "metadata": {},
   "outputs": [],
   "source": [
    "sc.stop()"
   ]
  },
  {
   "cell_type": "code",
   "execution_count": null,
   "metadata": {},
   "outputs": [],
   "source": []
  }
 ],
 "metadata": {
  "kernelspec": {
   "display_name": "Python 3",
   "language": "python",
   "name": "python3"
  },
  "language_info": {
   "codemirror_mode": {
    "name": "ipython",
    "version": 3
   },
   "file_extension": ".py",
   "mimetype": "text/x-python",
   "name": "python",
   "nbconvert_exporter": "python",
   "pygments_lexer": "ipython3",
   "version": "3.5.6"
  }
 },
 "nbformat": 4,
 "nbformat_minor": 4
}
